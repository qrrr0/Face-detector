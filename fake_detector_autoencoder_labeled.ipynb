{
 "cells": [
  {
   "cell_type": "code",
   "execution_count": null,
   "id": "e74c2fa0",
   "metadata": {},
   "outputs": [],
   "source": [
    "import os\n",
    "import cv2\n",
    "import numpy as np\n",
    "import matplotlib.pyplot as plt\n",
    "from tensorflow.keras.models import Model\n",
    "from tensorflow.keras.layers import Input, Conv2D, MaxPooling2D, UpSampling2D\n",
    "from sklearn.metrics import classification_report"
   ]
  },
  {
   "cell_type": "code",
   "execution_count": null,
   "id": "e1c7b05b",
   "metadata": {},
   "outputs": [],
   "source": [
    "# Load and preprocess images with labels\n",
    "def load_images_with_labels(folder_real, folder_fake, size=(128, 128)):\n",
    "    images = []\n",
    "    labels = []\n",
    "    filenames = []"
   ]
  },
  {
   "cell_type": "code",
   "execution_count": null,
   "id": "eb3cad17",
   "metadata": {},
   "outputs": [],
   "source": [
    "    for file in os.listdir(folder_real):\n",
    "        path = os.path.join(folder_real, file)\n",
    "        img = cv2.imread(path)\n",
    "        if img is not None:\n",
    "            img = cv2.resize(img, size)\n",
    "            img = img.astype('float32') / 255.0\n",
    "            images.append(img)\n",
    "            labels.append(0)  # Real\n",
    "            filenames.append(file)"
   ]
  },
  {
   "cell_type": "code",
   "execution_count": null,
   "id": "57137bd7",
   "metadata": {},
   "outputs": [],
   "source": [
    "    for file in os.listdir(folder_fake):\n",
    "        path = os.path.join(folder_fake, file)\n",
    "        img = cv2.imread(path)\n",
    "        if img is not None:\n",
    "            img = cv2.resize(img, size)\n",
    "            img = img.astype('float32') / 255.0\n",
    "            images.append(img)\n",
    "            labels.append(1)  # Fake\n",
    "            filenames.append(file)"
   ]
  },
  {
   "cell_type": "code",
   "execution_count": null,
   "id": "29e93d94",
   "metadata": {},
   "outputs": [],
   "source": [
    "    return np.array(images), np.array(labels), filenames"
   ]
  },
  {
   "cell_type": "code",
   "execution_count": null,
   "id": "2cb70740",
   "metadata": {},
   "outputs": [],
   "source": [
    "# Paths\n",
    "train_real_path = 'C:/Users/smowe/OneDrive/Desktop/Data Set 1/train/real'\n",
    "train_fake_path = 'C:/Users/smowe/OneDrive/Desktop/Data Set 1/train/fake'\n",
    "test_real_path = 'C:/Users/smowe/OneDrive/Desktop/Data Set 1/test/real'\n",
    "test_fake_path = 'C:/Users/smowe/OneDrive/Desktop/Data Set 1/test/fake'"
   ]
  },
  {
   "cell_type": "code",
   "execution_count": null,
   "id": "8763c7b2",
   "metadata": {},
   "outputs": [],
   "source": [
    "# Load training data (only REAL for training autoencoder)\n",
    "X_train, _, _ = load_images_with_labels(train_real_path, train_real_path)"
   ]
  },
  {
   "cell_type": "code",
   "execution_count": null,
   "id": "18de4875",
   "metadata": {},
   "outputs": [],
   "source": [
    "# Define autoencoder\n",
    "input_img = Input(shape=(128, 128, 3))\n",
    "x = Conv2D(32, (3, 3), activation='relu', padding='same')(input_img)\n",
    "x = MaxPooling2D((2, 2), padding='same')(x)\n",
    "x = Conv2D(16, (3, 3), activation='relu', padding='same')(x)\n",
    "encoded = MaxPooling2D((2, 2), padding='same')(x)"
   ]
  },
  {
   "cell_type": "code",
   "execution_count": null,
   "id": "04dced76",
   "metadata": {},
   "outputs": [],
   "source": [
    "x = Conv2D(16, (3, 3), activation='relu', padding='same')(encoded)\n",
    "x = UpSampling2D((2, 2))(x)\n",
    "x = Conv2D(32, (3, 3), activation='relu', padding='same')(x)\n",
    "x = UpSampling2D((2, 2))(x)\n",
    "decoded = Conv2D(3, (3, 3), activation='sigmoid', padding='same')(x)"
   ]
  },
  {
   "cell_type": "code",
   "execution_count": null,
   "id": "db435932",
   "metadata": {},
   "outputs": [],
   "source": [
    "autoencoder = Model(input_img, decoded)\n",
    "autoencoder.compile(optimizer='adam', loss='mse')\n",
    "autoencoder.fit(X_train, X_train, epochs=50, batch_size=2, shuffle=True)"
   ]
  },
  {
   "cell_type": "code",
   "execution_count": null,
   "id": "4b73bcb1",
   "metadata": {},
   "outputs": [],
   "source": [
    "# Load test data (real + fake)\n",
    "X_test, y_test, test_filenames = load_images_with_labels(test_real_path, test_fake_path)"
   ]
  },
  {
   "cell_type": "code",
   "execution_count": null,
   "id": "f9acd03f",
   "metadata": {},
   "outputs": [],
   "source": [
    "# Predict and compute reconstruction errors\n",
    "X_recon = autoencoder.predict(X_test)\n",
    "errors = np.mean((X_test - X_recon) ** 2, axis=(1, 2, 3))"
   ]
  },
  {
   "cell_type": "code",
   "execution_count": null,
   "id": "017c7a08",
   "metadata": {},
   "outputs": [],
   "source": [
    "# Set threshold (90th percentile)\n",
    "threshold = np.percentile(errors, 90)"
   ]
  },
  {
   "cell_type": "code",
   "execution_count": null,
   "id": "6b8d645b",
   "metadata": {},
   "outputs": [],
   "source": [
    "# Predict labels\n",
    "y_pred = (errors > threshold).astype(int)"
   ]
  },
  {
   "cell_type": "code",
   "execution_count": null,
   "id": "12cc114a",
   "metadata": {},
   "outputs": [],
   "source": [
    "# Report\n",
    "print(classification_report(y_test, y_pred, target_names=[\"REAL\", \"FAKE\"]))"
   ]
  },
  {
   "cell_type": "code",
   "execution_count": null,
   "id": "31b98890",
   "metadata": {},
   "outputs": [],
   "source": [
    "# Optional visualization\n",
    "for i in range(len(X_test)):\n",
    "    label = \"FAKE\" if y_pred[i] == 1 else \"REAL\"\n",
    "    plt.figure(figsize=(6, 3))\n",
    "    plt.suptitle(f\"{test_filenames[i]} - Error: {errors[i]:.6f} - Predicted: {label}\", fontsize=10)\n",
    "    plt.subplot(1, 2, 1)\n",
    "    plt.imshow(X_test[i])\n",
    "    plt.title(\"Original\")\n",
    "    plt.axis('off')\n",
    "    plt.subplot(1, 2, 2)\n",
    "    plt.imshow(X_recon[i])\n",
    "    plt.title(\"Reconstructed\")\n",
    "    plt.axis('off')\n",
    "    plt.show()"
   ]
  }
 ],
 "metadata": {},
 "nbformat": 4,
 "nbformat_minor": 5
}
